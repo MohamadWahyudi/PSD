{
  "nbformat": 4,
  "nbformat_minor": 0,
  "metadata": {
    "colab": {
      "provenance": []
    },
    "kernelspec": {
      "name": "python3",
      "display_name": "Python 3"
    },
    "language_info": {
      "name": "python"
    }
  },
  "cells": [
    {
      "cell_type": "markdown",
      "source": [
        "## data understanding"
      ],
      "metadata": {
        "id": "awsM73Rc7cT0"
      }
    },
    {
      "cell_type": "code",
      "execution_count": 1,
      "metadata": {
        "id": "o9kGzzK_6Z40"
      },
      "outputs": [],
      "source": [
        "import pandas as pd\n",
        "import matplotlib.pyplot as plt\n",
        "import seaborn as sns\n",
        "df = pd.read_csv(\"heart_attack_prediction_indonesia.csv\")\n"
      ]
    },
    {
      "cell_type": "markdown",
      "source": [
        "### Informasi Dataset"
      ],
      "metadata": {
        "id": "ZoowuCrZ7tQn"
      }
    },
    {
      "cell_type": "code",
      "source": [
        "print(\"Ukuran dataset:\", df.shape)\n",
        "print(\"\\nTipe data tiap kolom:\")\n",
        "print(df.dtypes)"
      ],
      "metadata": {
        "colab": {
          "base_uri": "https://localhost:8080/"
        },
        "id": "DeDdYYdl7asf",
        "outputId": "31d35e0f-1fff-4fdb-a34e-f5c7f22b532d"
      },
      "execution_count": 2,
      "outputs": [
        {
          "output_type": "stream",
          "name": "stdout",
          "text": [
            "Ukuran dataset: (158355, 28)\n",
            "\n",
            "Tipe data tiap kolom:\n",
            "age                                 int64\n",
            "gender                             object\n",
            "region                             object\n",
            "income_level                       object\n",
            "hypertension                        int64\n",
            "diabetes                            int64\n",
            "cholesterol_level                   int64\n",
            "obesity                             int64\n",
            "waist_circumference                 int64\n",
            "family_history                      int64\n",
            "smoking_status                     object\n",
            "alcohol_consumption                object\n",
            "physical_activity                  object\n",
            "dietary_habits                     object\n",
            "air_pollution_exposure             object\n",
            "stress_level                       object\n",
            "sleep_hours                       float64\n",
            "blood_pressure_systolic             int64\n",
            "blood_pressure_diastolic            int64\n",
            "fasting_blood_sugar                 int64\n",
            "cholesterol_hdl                     int64\n",
            "cholesterol_ldl                     int64\n",
            "triglycerides                       int64\n",
            "EKG_results                        object\n",
            "previous_heart_disease              int64\n",
            "medication_usage                    int64\n",
            "participated_in_free_screening      int64\n",
            "heart_attack                        int64\n",
            "dtype: object\n"
          ]
        }
      ]
    },
    {
      "cell_type": "markdown",
      "source": [
        "### Statistik Deskriptif"
      ],
      "metadata": {
        "id": "eClJguRN7wOu"
      }
    },
    {
      "cell_type": "code",
      "source": [
        "print(\"\\nStatistik deskriptif:\")\n",
        "print(df.describe(include=\"all\"))\n"
      ],
      "metadata": {
        "colab": {
          "base_uri": "https://localhost:8080/"
        },
        "id": "eYLFH-Gy7ghn",
        "outputId": "2ab4236c-4ff9-4c9e-80ae-8f16025b616e"
      },
      "execution_count": 3,
      "outputs": [
        {
          "output_type": "stream",
          "name": "stdout",
          "text": [
            "\n",
            "Statistik deskriptif:\n",
            "                  age  gender  region income_level   hypertension  \\\n",
            "count   158355.000000  158355  158355       158355  158355.000000   \n",
            "unique            NaN       2       2            3            NaN   \n",
            "top               NaN    Male   Urban       Middle            NaN   \n",
            "freq              NaN   82243  103038        71230            NaN   \n",
            "mean        54.543778     NaN     NaN          NaN       0.299069   \n",
            "std         11.910897     NaN     NaN          NaN       0.457851   \n",
            "min         25.000000     NaN     NaN          NaN       0.000000   \n",
            "25%         46.000000     NaN     NaN          NaN       0.000000   \n",
            "50%         55.000000     NaN     NaN          NaN       0.000000   \n",
            "75%         63.000000     NaN     NaN          NaN       1.000000   \n",
            "max         90.000000     NaN     NaN          NaN       1.000000   \n",
            "\n",
            "             diabetes  cholesterol_level        obesity  waist_circumference  \\\n",
            "count   158355.000000      158355.000000  158355.000000        158355.000000   \n",
            "unique            NaN                NaN            NaN                  NaN   \n",
            "top               NaN                NaN            NaN                  NaN   \n",
            "freq              NaN                NaN            NaN                  NaN   \n",
            "mean         0.199804         199.533264       0.249901            93.268504   \n",
            "std          0.399854          39.737565       0.432957            16.382205   \n",
            "min          0.000000         100.000000       0.000000            20.000000   \n",
            "25%          0.000000         172.000000       0.000000            82.000000   \n",
            "50%          0.000000         199.000000       0.000000            93.000000   \n",
            "75%          0.000000         226.000000       0.000000           104.000000   \n",
            "max          1.000000         350.000000       1.000000           173.000000   \n",
            "\n",
            "        family_history  ... blood_pressure_diastolic fasting_blood_sugar  \\\n",
            "count    158355.000000  ...            158355.000000       158355.000000   \n",
            "unique             NaN  ...                      NaN                 NaN   \n",
            "top                NaN  ...                      NaN                 NaN   \n",
            "freq               NaN  ...                      NaN                 NaN   \n",
            "mean          0.300218  ...                79.490809          110.736762   \n",
            "std           0.458354  ...                10.002964           27.673445   \n",
            "min           0.000000  ...                37.000000           70.000000   \n",
            "25%           0.000000  ...                73.000000           89.000000   \n",
            "50%           0.000000  ...                80.000000          109.000000   \n",
            "75%           1.000000  ...                86.000000          130.000000   \n",
            "max           1.000000  ...               127.000000          230.000000   \n",
            "\n",
            "       cholesterol_hdl cholesterol_ldl  triglycerides EKG_results  \\\n",
            "count    158355.000000   158355.000000  158355.000000      158355   \n",
            "unique             NaN             NaN            NaN           2   \n",
            "top                NaN             NaN            NaN      Normal   \n",
            "freq               NaN             NaN            NaN      126914   \n",
            "mean         49.491478      129.569916     149.715885         NaN   \n",
            "std           9.982634       34.913318      49.023473         NaN   \n",
            "min           8.000000      -19.000000      50.000000         NaN   \n",
            "25%          43.000000      106.000000     116.000000         NaN   \n",
            "50%          49.000000      130.000000     149.000000         NaN   \n",
            "75%          56.000000      153.000000     183.000000         NaN   \n",
            "max          93.000000      282.000000     380.000000         NaN   \n",
            "\n",
            "        previous_heart_disease  medication_usage  \\\n",
            "count            158355.000000     158355.000000   \n",
            "unique                     NaN               NaN   \n",
            "top                        NaN               NaN   \n",
            "freq                       NaN               NaN   \n",
            "mean                  0.200575          0.499770   \n",
            "std                   0.400432          0.500002   \n",
            "min                   0.000000          0.000000   \n",
            "25%                   0.000000          0.000000   \n",
            "50%                   0.000000          0.000000   \n",
            "75%                   0.000000          1.000000   \n",
            "max                   1.000000          1.000000   \n",
            "\n",
            "        participated_in_free_screening   heart_attack  \n",
            "count                    158355.000000  158355.000000  \n",
            "unique                             NaN            NaN  \n",
            "top                                NaN            NaN  \n",
            "freq                               NaN            NaN  \n",
            "mean                          0.601029       0.401004  \n",
            "std                           0.489688       0.490103  \n",
            "min                           0.000000       0.000000  \n",
            "25%                           0.000000       0.000000  \n",
            "50%                           1.000000       0.000000  \n",
            "75%                           1.000000       1.000000  \n",
            "max                           1.000000       1.000000  \n",
            "\n",
            "[11 rows x 28 columns]\n"
          ]
        }
      ]
    },
    {
      "cell_type": "markdown",
      "source": [
        "### Mengecek Missing Values"
      ],
      "metadata": {
        "id": "aFn6OoVw74vV"
      }
    },
    {
      "cell_type": "code",
      "source": [
        "print(\"\\nJumlah missing values tiap kolom:\")\n",
        "print(df.isnull().sum())\n"
      ],
      "metadata": {
        "colab": {
          "base_uri": "https://localhost:8080/"
        },
        "id": "HjUk4QLh8HGN",
        "outputId": "7591f9e2-d13e-404c-f67b-42cc6b2ba928"
      },
      "execution_count": 4,
      "outputs": [
        {
          "output_type": "stream",
          "name": "stdout",
          "text": [
            "\n",
            "Jumlah missing values tiap kolom:\n",
            "age                                   0\n",
            "gender                                0\n",
            "region                                0\n",
            "income_level                          0\n",
            "hypertension                          0\n",
            "diabetes                              0\n",
            "cholesterol_level                     0\n",
            "obesity                               0\n",
            "waist_circumference                   0\n",
            "family_history                        0\n",
            "smoking_status                        0\n",
            "alcohol_consumption               94848\n",
            "physical_activity                     0\n",
            "dietary_habits                        0\n",
            "air_pollution_exposure                0\n",
            "stress_level                          0\n",
            "sleep_hours                           0\n",
            "blood_pressure_systolic               0\n",
            "blood_pressure_diastolic              0\n",
            "fasting_blood_sugar                   0\n",
            "cholesterol_hdl                       0\n",
            "cholesterol_ldl                       0\n",
            "triglycerides                         0\n",
            "EKG_results                           0\n",
            "previous_heart_disease                0\n",
            "medication_usage                      0\n",
            "participated_in_free_screening        0\n",
            "heart_attack                          0\n",
            "dtype: int64\n"
          ]
        }
      ]
    },
    {
      "cell_type": "markdown",
      "source": [
        "### data duplikat"
      ],
      "metadata": {
        "id": "1J3rT7I6ARme"
      }
    },
    {
      "cell_type": "code",
      "source": [
        "df.duplicated().sum()\n",
        "\n"
      ],
      "metadata": {
        "colab": {
          "base_uri": "https://localhost:8080/"
        },
        "id": "9tJotJ_0ANKP",
        "outputId": "ba7a2eda-f88e-4c1c-dcdc-e070182186b2"
      },
      "execution_count": 7,
      "outputs": [
        {
          "output_type": "execute_result",
          "data": {
            "text/plain": [
              "np.int64(0)"
            ]
          },
          "metadata": {},
          "execution_count": 7
        }
      ]
    }
  ]
}